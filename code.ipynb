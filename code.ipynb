{
 "cells": [
  {
   "cell_type": "code",
   "execution_count": 178,
   "metadata": {},
   "outputs": [],
   "source": [
    "import pandas as pd\n",
    "import numpy as np\n",
    "import matplotlib.pyplot as plt\n",
    "import seaborn as sns\n",
    "from sklearn.metrics import f1_score\n",
    "from sklearn.metrics import accuracy_score\n",
    "from sklearn.model_selection import train_test_split\n",
    "from sklearn.preprocessing import QuantileTransformer\n",
    "from xgboost import XGBClassifier\n",
    "from sklearn.preprocessing import LabelEncoder\n",
    "from collections import Counter\n",
    "# import warnings\n",
    "# warnings.filterwarnings(\"error\")"
   ]
  },
  {
   "cell_type": "code",
   "execution_count": 179,
   "metadata": {},
   "outputs": [],
   "source": [
    "read=pd.read_csv(\"train_ps0mmDv_9yr6iGN/train/train_submissions.csv\")\n",
    "problem=pd.read_csv(\"train_ps0mmDv_9yr6iGN/train/problem_data.csv\")\n",
    "user=pd.read_csv(\"train_ps0mmDv_9yr6iGN/train/user_data.csv\")\n",
    "test=pd.read_csv(\"test_submissions_NeDLEvX.csv\")"
   ]
  },
  {
   "cell_type": "code",
   "execution_count": 180,
   "metadata": {},
   "outputs": [],
   "source": [
    "test1=test.merge(problem,on='problem_id').merge(user,on='user_id')"
   ]
  },
  {
   "cell_type": "code",
   "execution_count": 181,
   "metadata": {},
   "outputs": [],
   "source": [
    "train=read.merge(user,on='user_id').merge(problem,on='problem_id')"
   ]
  },
  {
   "cell_type": "code",
   "execution_count": 182,
   "metadata": {},
   "outputs": [
    {
     "data": {
      "text/plain": [
       "user_id                      False\n",
       "problem_id                   False\n",
       "attempts_range               False\n",
       "submission_count             False\n",
       "problem_solved               False\n",
       "contribution                 False\n",
       "country                       True\n",
       "follower_count               False\n",
       "last_online_time_seconds     False\n",
       "max_rating                   False\n",
       "rating                       False\n",
       "rank                         False\n",
       "registration_time_seconds    False\n",
       "level_type                    True\n",
       "points                        True\n",
       "tags                          True\n",
       "dtype: bool"
      ]
     },
     "execution_count": 182,
     "metadata": {},
     "output_type": "execute_result"
    }
   ],
   "source": [
    "train.isna().any()"
   ]
  },
  {
   "cell_type": "markdown",
   "metadata": {},
   "source": [
    "###### Preprocessing & Exploratory Analysis"
   ]
  },
  {
   "cell_type": "code",
   "execution_count": 183,
   "metadata": {},
   "outputs": [
    {
     "data": {
      "text/plain": [
       "array(['B', 'A', 'C', 'D', 'E', 'G', 'I', 'F', 'H', nan, 'J', 'K', 'L',\n",
       "       'M', 'N'], dtype=object)"
      ]
     },
     "execution_count": 183,
     "metadata": {},
     "output_type": "execute_result"
    }
   ],
   "source": [
    "train['level_type'].unique()"
   ]
  },
  {
   "cell_type": "code",
   "execution_count": 184,
   "metadata": {},
   "outputs": [],
   "source": [
    "train['level_type'] = train['level_type'].fillna(train['level_type'].mode()[0])\n",
    "test1['level_type'] = test1['level_type'].fillna(test1['level_type'].mode()[0])"
   ]
  },
  {
   "cell_type": "code",
   "execution_count": 185,
   "metadata": {},
   "outputs": [
    {
     "data": {
      "text/plain": [
       "array(['B', 'A', 'C', 'D', 'E', 'G', 'I', 'F', 'H', 'J', 'K', 'L', 'M',\n",
       "       'N'], dtype=object)"
      ]
     },
     "execution_count": 185,
     "metadata": {},
     "output_type": "execute_result"
    }
   ],
   "source": [
    "train['level_type'].unique()"
   ]
  },
  {
   "cell_type": "code",
   "execution_count": 186,
   "metadata": {},
   "outputs": [],
   "source": [
    "LevelType=train.groupby('level_type')['user_id'].nunique().reset_index()"
   ]
  },
  {
   "cell_type": "code",
   "execution_count": 187,
   "metadata": {},
   "outputs": [
    {
     "data": {
      "image/png": "[encoded data removed]",
      "text/plain": [
       "<Figure size 1296x360 with 1 Axes>"
      ]
     },
     "metadata": {
      "needs_background": "light"
     },
     "output_type": "display_data"
    }
   ],
   "source": [
    "LevelType.set_index('level_type')['user_id'].plot.bar(figsize=(18,5),grid=True,rot=0)\n",
    "plt.xlabel(\"\\nLevel Type\",fontsize=14,color='blue')\n",
    "plt.ylabel(\"\\nNumber of users\\n\",fontsize=14,color='blue')\n",
    "plt.tight_layout()"
   ]
  },
  {
   "cell_type": "code",
   "execution_count": 188,
   "metadata": {},
   "outputs": [],
   "source": [
    "le = LabelEncoder()\n",
    "train['level_type'] = le.fit_transform(train['level_type'])\n",
    "test1['level_type'] = le.transform(test1['level_type'])"
   ]
  },
  {
   "cell_type": "code",
   "execution_count": 189,
   "metadata": {},
   "outputs": [
    {
     "data": {
      "text/plain": [
       "array(['beginner', 'intermediate', 'advanced', 'expert'], dtype=object)"
      ]
     },
     "execution_count": 189,
     "metadata": {},
     "output_type": "execute_result"
    }
   ],
   "source": [
    "train['rank'].unique()"
   ]
  },
  {
   "cell_type": "code",
   "execution_count": 190,
   "metadata": {},
   "outputs": [],
   "source": [
    "Rank=train.groupby('rank')['user_id'].nunique().reset_index()"
   ]
  },
  {
   "cell_type": "code",
   "execution_count": 191,
   "metadata": {},
   "outputs": [
    {
     "data": {
      "image/png": "[encoded data removed]",
      "text/plain": [
       "<Figure size 648x288 with 1 Axes>"
      ]
     },
     "metadata": {
      "needs_background": "light"
     },
     "output_type": "display_data"
    }
   ],
   "source": [
    "Rank.set_index('rank')['user_id'].plot.bar(figsize=(9,4),grid=True,rot=0)\n",
    "plt.xlabel(\"\\nRank\",fontsize=10,color='blue')\n",
    "plt.ylabel(\"\\nNumber of users\\n\",fontsize=10,color='blue')\n",
    "plt.tight_layout()"
   ]
  },
  {
   "cell_type": "code",
   "execution_count": 192,
   "metadata": {},
   "outputs": [
    {
     "data": {
      "text/plain": [
       "<matplotlib.collections.PathCollection at 0x2584068aa20>"
      ]
     },
     "execution_count": 192,
     "metadata": {},
     "output_type": "execute_result"
    },
    {
     "data": {
      "image/png": "[encoded data removed]",
      "text/plain": [
       "<Figure size 432x288 with 1 Axes>"
      ]
     },
     "metadata": {
      "needs_background": "light"
     },
     "output_type": "display_data"
    }
   ],
   "source": [
    "plt.scatter(x=train['rank'],y=train['problem_solved'])"
   ]
  },
  {
   "cell_type": "code",
   "execution_count": 193,
   "metadata": {},
   "outputs": [],
   "source": [
    "le = LabelEncoder()\n",
    "train['rank'] = le.fit_transform(train['rank'])\n",
    "test1['rank'] = le.transform(test1['rank'])"
   ]
  },
  {
   "cell_type": "code",
   "execution_count": 194,
   "metadata": {},
   "outputs": [],
   "source": [
    "country=train.groupby('country')['user_id'].nunique().reset_index()"
   ]
  },
  {
   "cell_type": "code",
   "execution_count": 195,
   "metadata": {},
   "outputs": [
    {
     "data": {
      "image/png": "[encoded data removed]",
      "text/plain": [
       "<Figure size 1440x432 with 1 Axes>"
      ]
     },
     "metadata": {
      "needs_background": "light"
     },
     "output_type": "display_data"
    }
   ],
   "source": [
    "country.set_index('country')['user_id'].plot.bar(figsize=(20,6),grid=True,rot=90)\n",
    "plt.xlabel(\"\\ncountry\",fontsize=14,color='blue')\n",
    "plt.ylabel(\"\\nNumber of users played\\n\",fontsize=14,color='blue')\n",
    "plt.tight_layout()"
   ]
  },
  {
   "cell_type": "code",
   "execution_count": 196,
   "metadata": {},
   "outputs": [],
   "source": [
    "train['country'] = train['country'].fillna(train['country'].mode()[0])\n",
    "test1['country'] = test1['country'].fillna(test1['country'].mode()[0])\n",
    "train['country'] = le.fit_transform(train['country'])\n",
    "test1['country'] = le.fit_transform(test1['country'])"
   ]
  },
  {
   "cell_type": "code",
   "execution_count": 197,
   "metadata": {},
   "outputs": [],
   "source": [
    "train['user_id']=train['user_id'].str.replace('user_','')\n",
    "test1['user_id'] = test1['user_id'].str.replace('user_','')\n",
    "train['problem_id'] = train['problem_id'].str.replace('prob_','')\n",
    "test1['problem_id'] = test1['problem_id'].str.replace('prob_','')"
   ]
  },
  {
   "cell_type": "code",
   "execution_count": 198,
   "metadata": {},
   "outputs": [],
   "source": [
    "train['diffonlinesec']=train['last_online_time_seconds']-train['registration_time_seconds']\n",
    "test1['diffonlinesec']=test1['last_online_time_seconds']-test1['registration_time_seconds']\n",
    "#####################################\n",
    "train['days']=train['diffonlinesec']//(24*3600)\n",
    "test1['days']=test1['diffonlinesec']//(24*3600)"
   ]
  },
  {
   "cell_type": "code",
   "execution_count": 199,
   "metadata": {},
   "outputs": [],
   "source": [
    "train['tags']=train['tags'].fillna('-999')\n",
    "test1['tags']=test1['tags'].fillna('-999')"
   ]
  },
  {
   "cell_type": "code",
   "execution_count": 200,
   "metadata": {},
   "outputs": [],
   "source": [
    "le = LabelEncoder()\n",
    "train['tags'] = le.fit_transform(train['tags'])\n",
    "test1['tags'] = le.fit_transform(test1['tags'])"
   ]
  },
  {
   "cell_type": "code",
   "execution_count": 201,
   "metadata": {},
   "outputs": [],
   "source": [
    "train['sumfollower']=train.groupby('user_id')['follower_count'].transform('sum')\n",
    "train['AvgProblemsolved']=train.groupby('user_id')['problem_solved'].transform('mean')\n",
    "train['SumProblemsolved']=train.groupby('user_id')['problem_solved'].transform('sum')\n",
    "##########################\n",
    "test1['sumfollower']=test1.groupby('user_id')['follower_count'].transform('sum')\n",
    "test1['AvgProblemsolved']=test1.groupby('user_id')['problem_solved'].transform('mean')\n",
    "test1['SumProblemsolved']=test1.groupby('user_id')['problem_solved'].transform('sum')"
   ]
  },
  {
   "cell_type": "code",
   "execution_count": 202,
   "metadata": {},
   "outputs": [],
   "source": [
    "train['sumcontribution']=train.groupby('user_id')['contribution'].transform('sum')\n",
    "#####################\n",
    "test1['sumcontribution']=test1.groupby('user_id')['contribution'].transform('sum')"
   ]
  },
  {
   "cell_type": "code",
   "execution_count": 203,
   "metadata": {},
   "outputs": [],
   "source": [
    "# train['user_id'] = le.fit_transform(train['user_id'])\n",
    "# train['problem_id'] = le.fit_transform(train['problem_id'])\n",
    "train['user_id'] = train['user_id'].astype('int')\n",
    "train['problem_id'] = train['problem_id'].astype('int')\n",
    "#############################\n",
    "# test1['user_id'] = le.fit_transform(test1['user_id'])\n",
    "# test1['problem_id'] = le.fit_transform(test1['problem_id'])\n",
    "test1['user_id'] = test1['user_id'].astype('int')\n",
    "test1['problem_id'] = test1['problem_id'].astype('int')"
   ]
  },
  {
   "cell_type": "code",
   "execution_count": 204,
   "metadata": {},
   "outputs": [
    {
     "data": {
      "image/png": "[encoded data removed]",
      "text/plain": [
       "<Figure size 432x288 with 1 Axes>"
      ]
     },
     "metadata": {
      "needs_background": "light"
     },
     "output_type": "display_data"
    }
   ],
   "source": [
    "ax = sns.boxplot(x=train['points'])"
   ]
  },
  {
   "cell_type": "code",
   "execution_count": 205,
   "metadata": {},
   "outputs": [],
   "source": [
    "qt = QuantileTransformer(output_distribution='normal')\n",
    "train['points']=train['points'].fillna(train['points'].median())\n",
    "train['npoints'] = qt.fit_transform(train[['points']].values)\n",
    "#######################\n",
    "test1['points']=test1['points'].fillna(test1['points'].median())\n",
    "test1['npoints'] = qt.fit_transform(test1[['points']].values)"
   ]
  },
  {
   "cell_type": "code",
   "execution_count": 206,
   "metadata": {},
   "outputs": [
    {
     "data": {
      "text/plain": [
       "<matplotlib.axes._subplots.AxesSubplot at 0x25839a64dd8>"
      ]
     },
     "execution_count": 206,
     "metadata": {},
     "output_type": "execute_result"
    },
    {
     "data": {
      "image/png": "[encoded data removed]",
      "text/plain": [
       "<Figure size 648x288 with 1 Axes>"
      ]
     },
     "metadata": {
      "needs_background": "light"
     },
     "output_type": "display_data"
    }
   ],
   "source": [
    "attemptRange=train.groupby('attempts_range').count()['user_id'].reset_index()\n",
    "attemptRange.set_index('attempts_range').plot.bar(figsize=(9,4),grid=True,rot=0)"
   ]
  },
  {
   "cell_type": "code",
   "execution_count": 207,
   "metadata": {},
   "outputs": [],
   "source": [
    "train['submission_count_norm']=np.cbrt(train['submission_count'])"
   ]
  },
  {
   "cell_type": "code",
   "execution_count": 208,
   "metadata": {},
   "outputs": [
    {
     "data": {
      "image/png": "[encoded data removed]",
      "text/plain": [
       "<Figure size 432x288 with 1 Axes>"
      ]
     },
     "metadata": {
      "needs_background": "light"
     },
     "output_type": "display_data"
    }
   ],
   "source": [
    "sns.distplot(np.cbrt(train['submission_count']))\n",
    "plt.grid()"
   ]
  },
  {
   "cell_type": "markdown",
   "metadata": {},
   "source": [
    "###### Model Training"
   ]
  },
  {
   "cell_type": "code",
   "execution_count": 209,
   "metadata": {},
   "outputs": [],
   "source": [
    "X1=train.drop(['attempts_range','last_online_time_seconds','registration_time_seconds','rating',\n",
    "              'points','submission_count_norm','problem_solved',\n",
    "              'follower_count','contribution','AvgProblemsolved'],axis=1)\n",
    "Y1=train['attempts_range']"
   ]
  },
  {
   "cell_type": "code",
   "execution_count": 210,
   "metadata": {},
   "outputs": [],
   "source": [
    "x_train, x_test, y_train, y_test = train_test_split(X1, Y1, test_size=0.3,random_state=123)"
   ]
  },
  {
   "cell_type": "code",
   "execution_count": 211,
   "metadata": {},
   "outputs": [
    {
     "data": {
      "text/plain": [
       "(Counter({1: 57970, 2: 33101, 3: 9846, 4: 3903, 6: 2105, 5: 1781}),\n",
       " Counter({2: 14219, 1: 24834, 5: 715, 3: 4297, 4: 1596, 6: 928}))"
      ]
     },
     "execution_count": 211,
     "metadata": {},
     "output_type": "execute_result"
    }
   ],
   "source": [
    "Counter(y_train),Counter(y_test)"
   ]
  },
  {
   "cell_type": "code",
   "execution_count": 212,
   "metadata": {},
   "outputs": [
    {
     "data": {
      "text/plain": [
       "Index(['user_id', 'problem_id', 'attempts_range', 'submission_count',\n",
       "       'problem_solved', 'contribution', 'country', 'follower_count',\n",
       "       'last_online_time_seconds', 'max_rating', 'rating', 'rank',\n",
       "       'registration_time_seconds', 'level_type', 'points', 'tags',\n",
       "       'diffonlinesec', 'days', 'sumfollower', 'AvgProblemsolved',\n",
       "       'SumProblemsolved', 'sumcontribution', 'npoints',\n",
       "       'submission_count_norm'],\n",
       "      dtype='object')"
      ]
     },
     "execution_count": 212,
     "metadata": {},
     "output_type": "execute_result"
    }
   ],
   "source": [
    "train.columns"
   ]
  },
  {
   "cell_type": "code",
   "execution_count": 215,
   "metadata": {},
   "outputs": [
    {
     "name": "stdout",
     "output_type": "stream",
     "text": [
      "[0]\tvalidation_0-merror:0.468995\n",
      "Will train until validation_0-merror hasn't improved in 10 rounds.\n",
      "[1]\tvalidation_0-merror:0.462963\n",
      "[2]\tvalidation_0-merror:0.460066\n",
      "[3]\tvalidation_0-merror:0.457855\n",
      "[4]\tvalidation_0-merror:0.456009\n",
      "[5]\tvalidation_0-merror:0.456546\n",
      "[6]\tvalidation_0-merror:0.456696\n",
      "[7]\tvalidation_0-merror:0.456202\n",
      "[8]\tvalidation_0-merror:0.455472\n",
      "[9]\tvalidation_0-merror:0.455344\n",
      "[10]\tvalidation_0-merror:0.4547\n",
      "[11]\tvalidation_0-merror:0.455022\n",
      "[12]\tvalidation_0-merror:0.455494\n",
      "[13]\tvalidation_0-merror:0.455794\n",
      "[14]\tvalidation_0-merror:0.455902\n",
      "[15]\tvalidation_0-merror:0.456095\n",
      "[16]\tvalidation_0-merror:0.45603\n",
      "[17]\tvalidation_0-merror:0.455687\n",
      "[18]\tvalidation_0-merror:0.455365\n",
      "[19]\tvalidation_0-merror:0.455022\n",
      "[20]\tvalidation_0-merror:0.454635\n",
      "[21]\tvalidation_0-merror:0.454013\n",
      "[22]\tvalidation_0-merror:0.453905\n",
      "[23]\tvalidation_0-merror:0.45382\n",
      "[24]\tvalidation_0-merror:0.452832\n",
      "[25]\tvalidation_0-merror:0.452875\n",
      "[26]\tvalidation_0-merror:0.45294\n",
      "[27]\tvalidation_0-merror:0.453068\n",
      "[28]\tvalidation_0-merror:0.453283\n",
      "[29]\tvalidation_0-merror:0.452296\n",
      "[30]\tvalidation_0-merror:0.451909\n",
      "[31]\tvalidation_0-merror:0.451501\n",
      "[32]\tvalidation_0-merror:0.45178\n",
      "[33]\tvalidation_0-merror:0.451609\n",
      "[34]\tvalidation_0-merror:0.451051\n",
      "[35]\tvalidation_0-merror:0.451115\n",
      "[36]\tvalidation_0-merror:0.451652\n",
      "[37]\tvalidation_0-merror:0.451888\n",
      "[38]\tvalidation_0-merror:0.451652\n",
      "[39]\tvalidation_0-merror:0.452038\n",
      "[40]\tvalidation_0-merror:0.451652\n",
      "[41]\tvalidation_0-merror:0.452081\n",
      "[42]\tvalidation_0-merror:0.451609\n",
      "[43]\tvalidation_0-merror:0.451609\n",
      "[44]\tvalidation_0-merror:0.451308\n",
      "Stopping. Best iteration:\n",
      "[34]\tvalidation_0-merror:0.451051\n",
      "\n"
     ]
    }
   ],
   "source": [
    "from xgboost import XGBClassifier\n",
    "xgb = XGBClassifier(max_depth=13 ,min_child_weight = 5,gamma = 0,\n",
    "                   subsample=0.8,colsample_bytree = 0.8,reg_alpha=0.05,learning_rate =0.1,\n",
    "                   n_estimators=1000,objective='multi:softmax',metrics=['mlogloss','merror'],\n",
    "                                num_classes=6) \n",
    "eval_set = [(x_test, y_test)]\n",
    "xgb.fit(x_train, y_train,early_stopping_rounds=10,eval_set=eval_set,verbose=True) #fit model on train set\n",
    "xgb_pred_y_test = xgb.predict(x_test)             # predict on test set\n",
    "xgb_pred_y_train = xgb.predict(x_train)           # predict on train set"
   ]
  },
  {
   "cell_type": "code",
   "execution_count": 216,
   "metadata": {},
   "outputs": [
    {
     "data": {
      "text/plain": [
       "({1, 2, 3, 4, 6}, {1, 2, 3, 4, 5, 6})"
      ]
     },
     "execution_count": 216,
     "metadata": {},
     "output_type": "execute_result"
    }
   ],
   "source": [
    "set(xgb_pred_y_test),set(xgb_pred_y_train)"
   ]
  },
  {
   "cell_type": "markdown",
   "metadata": {},
   "source": [
    "##### Feature Importance"
   ]
  },
  {
   "cell_type": "code",
   "execution_count": 218,
   "metadata": {},
   "outputs": [
    {
     "data": {
      "image/png": "[encoded data removed]",
      "text/plain": [
       "<Figure size 1296x504 with 1 Axes>"
      ]
     },
     "metadata": {
      "needs_background": "light"
     },
     "output_type": "display_data"
    }
   ],
   "source": [
    "df1=pd.DataFrame()\n",
    "df1['value']=xgb.feature_importances_\n",
    "df1['columns']=x_train.columns\n",
    "df1.sort_values(by='value', ascending=False, inplace=True)\n",
    "\n",
    "plt.figure(figsize=(18,7))\n",
    "ax = sns.barplot(y=\"columns\", x=\"value\", data=df1)\n",
    "plt.grid()"
   ]
  },
  {
   "cell_type": "code",
   "execution_count": 217,
   "metadata": {},
   "outputs": [
    {
     "data": {
      "text/plain": [
       "(0.7219614420642696, 0.6323990074759069)"
      ]
     },
     "execution_count": 217,
     "metadata": {},
     "output_type": "execute_result"
    }
   ],
   "source": [
    "f1_score(xgb_pred_y_train,y_train,average='weighted'),f1_score(xgb_pred_y_test,y_test,average='weighted')"
   ]
  },
  {
   "cell_type": "markdown",
   "metadata": {},
   "source": [
    "##### Prediction on test dataset"
   ]
  },
  {
   "cell_type": "code",
   "execution_count": 219,
   "metadata": {},
   "outputs": [],
   "source": [
    "testtest=test1.drop(['ID','last_online_time_seconds','registration_time_seconds','rating',\n",
    "              'points','problem_solved',\n",
    "              'follower_count','contribution','AvgProblemsolved'],axis=1)"
   ]
  },
  {
   "cell_type": "code",
   "execution_count": 220,
   "metadata": {},
   "outputs": [
    {
     "data": {
      "text/plain": [
       "Index(['user_id', 'problem_id', 'level_type', 'tags', 'submission_count',\n",
       "       'country', 'max_rating', 'rank', 'diffonlinesec', 'days', 'sumfollower',\n",
       "       'SumProblemsolved', 'sumcontribution', 'npoints'],\n",
       "      dtype='object')"
      ]
     },
     "execution_count": 220,
     "metadata": {},
     "output_type": "execute_result"
    }
   ],
   "source": [
    "testtest.columns"
   ]
  },
  {
   "cell_type": "code",
   "execution_count": 223,
   "metadata": {},
   "outputs": [
    {
     "data": {
      "text/plain": [
       "(21, 14)"
      ]
     },
     "execution_count": 223,
     "metadata": {},
     "output_type": "execute_result"
    }
   ],
   "source": [
    "testtest[testtest['user_id']==3347].shape"
   ]
  },
  {
   "cell_type": "code",
   "execution_count": 224,
   "metadata": {},
   "outputs": [],
   "source": [
    "testtest=testtest[['user_id','problem_id', 'submission_count', 'country', 'max_rating', 'rank',\n",
    "       'level_type', 'tags', 'diffonlinesec', 'days', 'sumfollower',\n",
    "       'SumProblemsolved', 'sumcontribution','npoints']]"
   ]
  },
  {
   "cell_type": "code",
   "execution_count": 225,
   "metadata": {},
   "outputs": [],
   "source": [
    "prediction=xgb.predict(testtest)"
   ]
  },
  {
   "cell_type": "code",
   "execution_count": 226,
   "metadata": {},
   "outputs": [],
   "source": [
    "testtest['user_id']=testtest['user_id'].astype('str')\n",
    "testtest['problem_id']=testtest['problem_id'].astype('str')\n",
    "testtest['ID']=\"user_\"+testtest['user_id']+\"_\"+\"prob_\"+testtest['problem_id']"
   ]
  },
  {
   "cell_type": "code",
   "execution_count": 227,
   "metadata": {},
   "outputs": [],
   "source": [
    "testtest['attempts_range']=prediction"
   ]
  },
  {
   "cell_type": "code",
   "execution_count": 228,
   "metadata": {},
   "outputs": [],
   "source": [
    "submission=testtest[['ID','attempts_range']]"
   ]
  },
  {
   "cell_type": "code",
   "execution_count": 229,
   "metadata": {},
   "outputs": [],
   "source": [
    "submission.to_csv(\"submission.csv\",index=False,header=submission.columns)"
   ]
  },
  {
   "cell_type": "code",
   "execution_count": 98,
   "metadata": {},
   "outputs": [],
   "source": [
    "sample=pd.read_csv(\"sample_submission_SCGtj9F.csv\")"
   ]
  },
  {
   "cell_type": "code",
   "execution_count": 232,
   "metadata": {},
   "outputs": [
    {
     "data": {
      "text/html": [
       "<div>\n",
       "<style scoped>\n",
       "    .dataframe tbody tr th:only-of-type {\n",
       "        vertical-align: middle;\n",
       "    }\n",
       "\n",
       "    .dataframe tbody tr th {\n",
       "        vertical-align: top;\n",
       "    }\n",
       "\n",
       "    .dataframe thead th {\n",
       "        text-align: right;\n",
       "    }\n",
       "</style>\n",
       "<table border=\"1\" class=\"dataframe\">\n",
       "  <thead>\n",
       "    <tr style=\"text-align: right;\">\n",
       "      <th></th>\n",
       "      <th>ID</th>\n",
       "      <th>attempts_range</th>\n",
       "      <th>user_id</th>\n",
       "      <th>problem_id</th>\n",
       "    </tr>\n",
       "  </thead>\n",
       "  <tbody>\n",
       "    <tr>\n",
       "      <th>0</th>\n",
       "      <td>user_856_prob_5822</td>\n",
       "      <td>1</td>\n",
       "      <td>user_856</td>\n",
       "      <td>prob_5822</td>\n",
       "    </tr>\n",
       "    <tr>\n",
       "      <th>1</th>\n",
       "      <td>user_856_prob_6173</td>\n",
       "      <td>1</td>\n",
       "      <td>user_856</td>\n",
       "      <td>prob_6173</td>\n",
       "    </tr>\n",
       "    <tr>\n",
       "      <th>2</th>\n",
       "      <td>user_856_prob_5781</td>\n",
       "      <td>1</td>\n",
       "      <td>user_856</td>\n",
       "      <td>prob_5781</td>\n",
       "    </tr>\n",
       "    <tr>\n",
       "      <th>3</th>\n",
       "      <td>user_856_prob_3438</td>\n",
       "      <td>1</td>\n",
       "      <td>user_856</td>\n",
       "      <td>prob_3438</td>\n",
       "    </tr>\n",
       "    <tr>\n",
       "      <th>4</th>\n",
       "      <td>user_856_prob_1868</td>\n",
       "      <td>1</td>\n",
       "      <td>user_856</td>\n",
       "      <td>prob_1868</td>\n",
       "    </tr>\n",
       "    <tr>\n",
       "      <th>...</th>\n",
       "      <td>...</td>\n",
       "      <td>...</td>\n",
       "      <td>...</td>\n",
       "      <td>...</td>\n",
       "    </tr>\n",
       "    <tr>\n",
       "      <th>66550</th>\n",
       "      <td>user_441_prob_2602</td>\n",
       "      <td>1</td>\n",
       "      <td>user_441</td>\n",
       "      <td>prob_2602</td>\n",
       "    </tr>\n",
       "    <tr>\n",
       "      <th>66551</th>\n",
       "      <td>user_613_prob_2863</td>\n",
       "      <td>1</td>\n",
       "      <td>user_613</td>\n",
       "      <td>prob_2863</td>\n",
       "    </tr>\n",
       "    <tr>\n",
       "      <th>66552</th>\n",
       "      <td>user_2424_prob_4163</td>\n",
       "      <td>1</td>\n",
       "      <td>user_2424</td>\n",
       "      <td>prob_4163</td>\n",
       "    </tr>\n",
       "    <tr>\n",
       "      <th>66553</th>\n",
       "      <td>user_2504_prob_2699</td>\n",
       "      <td>1</td>\n",
       "      <td>user_2504</td>\n",
       "      <td>prob_2699</td>\n",
       "    </tr>\n",
       "    <tr>\n",
       "      <th>66554</th>\n",
       "      <td>user_1298_prob_4613</td>\n",
       "      <td>2</td>\n",
       "      <td>user_1298</td>\n",
       "      <td>prob_4613</td>\n",
       "    </tr>\n",
       "  </tbody>\n",
       "</table>\n",
       "<p>66555 rows × 4 columns</p>\n",
       "</div>"
      ],
      "text/plain": [
       "                        ID  attempts_range    user_id problem_id\n",
       "0       user_856_prob_5822               1   user_856  prob_5822\n",
       "1       user_856_prob_6173               1   user_856  prob_6173\n",
       "2       user_856_prob_5781               1   user_856  prob_5781\n",
       "3       user_856_prob_3438               1   user_856  prob_3438\n",
       "4       user_856_prob_1868               1   user_856  prob_1868\n",
       "...                    ...             ...        ...        ...\n",
       "66550   user_441_prob_2602               1   user_441  prob_2602\n",
       "66551   user_613_prob_2863               1   user_613  prob_2863\n",
       "66552  user_2424_prob_4163               1  user_2424  prob_4163\n",
       "66553  user_2504_prob_2699               1  user_2504  prob_2699\n",
       "66554  user_1298_prob_4613               2  user_1298  prob_4613\n",
       "\n",
       "[66555 rows x 4 columns]"
      ]
     },
     "execution_count": 232,
     "metadata": {},
     "output_type": "execute_result"
    }
   ],
   "source": [
    "submission.merge(test,on='ID')"
   ]
  },
  {
   "cell_type": "code",
   "execution_count": null,
   "metadata": {},
   "outputs": [],
   "source": []
  },
  {
   "cell_type": "code",
   "execution_count": null,
   "metadata": {},
   "outputs": [],
   "source": []
  },
  {
   "cell_type": "code",
   "execution_count": null,
   "metadata": {},
   "outputs": [],
   "source": []
  },
  {
   "cell_type": "code",
   "execution_count": null,
   "metadata": {},
   "outputs": [],
   "source": []
  },
  {
   "cell_type": "code",
   "execution_count": null,
   "metadata": {},
   "outputs": [],
   "source": []
  },
  {
   "cell_type": "code",
   "execution_count": null,
   "metadata": {},
   "outputs": [],
   "source": []
  },
  {
   "cell_type": "code",
   "execution_count": null,
   "metadata": {},
   "outputs": [],
   "source": []
  }
 ],
 "metadata": {
  "kernelspec": {
   "display_name": "Python 3",
   "language": "python",
   "name": "python3"
  },
  "language_info": {
   "codemirror_mode": {
    "name": "ipython",
    "version": 3
   },
   "file_extension": ".py",
   "mimetype": "text/x-python",
   "name": "python",
   "nbconvert_exporter": "python",
   "pygments_lexer": "ipython3",
   "version": "3.7.3"
  }
 },
 "nbformat": 4,
 "nbformat_minor": 2
}
