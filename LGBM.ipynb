{
 "cells": [
  {
   "cell_type": "code",
   "execution_count": 1,
   "metadata": {},
   "outputs": [
    {
     "name": "stderr",
     "output_type": "stream",
     "text": [
      "C:\\Users\\bhagyashreeG\\Anaconda3\\lib\\site-packages\\statsmodels\\tools\\_testing.py:19: FutureWarning: pandas.util.testing is deprecated. Use the functions in the public API at pandas.testing instead.\n",
      "  import pandas.util.testing as tm\n"
     ]
    }
   ],
   "source": [
    "import pandas as pd\n",
    "import numpy as np\n",
    "import matplotlib.pyplot as plt\n",
    "import seaborn as sns\n",
    "from sklearn.metrics import f1_score\n",
    "from sklearn.metrics import accuracy_score\n",
    "from sklearn.model_selection import train_test_split\n",
    "from sklearn.preprocessing import QuantileTransformer\n",
    "from xgboost import XGBClassifier\n",
    "from sklearn.preprocessing import LabelEncoder\n",
    "from collections import Counter\n",
    "# import warnings\n",
    "# warnings.filterwarnings(\"error\")"
   ]
  },
  {
   "cell_type": "code",
   "execution_count": 2,
   "metadata": {},
   "outputs": [],
   "source": [
    "read=pd.read_csv(\"train_ps0mmDv_9yr6iGN/train/train_submissions.csv\")\n",
    "problem=pd.read_csv(\"train_ps0mmDv_9yr6iGN/train/problem_data.csv\")\n",
    "user=pd.read_csv(\"train_ps0mmDv_9yr6iGN/train/user_data.csv\")\n",
    "test=pd.read_csv(\"test_submissions_NeDLEvX.csv\")"
   ]
  },
  {
   "cell_type": "code",
   "execution_count": 3,
   "metadata": {},
   "outputs": [],
   "source": [
    "test1=test.merge(problem,on='problem_id').merge(user,on='user_id')"
   ]
  },
  {
   "cell_type": "code",
   "execution_count": 4,
   "metadata": {},
   "outputs": [],
   "source": [
    "train=read.merge(user,on='user_id').merge(problem,on='problem_id')"
   ]
  },
  {
   "cell_type": "code",
   "execution_count": 5,
   "metadata": {},
   "outputs": [
    {
     "data": {
      "text/plain": [
       "user_id                      False\n",
       "problem_id                   False\n",
       "attempts_range               False\n",
       "submission_count             False\n",
       "problem_solved               False\n",
       "contribution                 False\n",
       "country                       True\n",
       "follower_count               False\n",
       "last_online_time_seconds     False\n",
       "max_rating                   False\n",
       "rating                       False\n",
       "rank                         False\n",
       "registration_time_seconds    False\n",
       "level_type                    True\n",
       "points                        True\n",
       "tags                          True\n",
       "dtype: bool"
      ]
     },
     "execution_count": 5,
     "metadata": {},
     "output_type": "execute_result"
    }
   ],
   "source": [
    "train.isna().any()"
   ]
  },
  {
   "cell_type": "markdown",
   "metadata": {},
   "source": [
    "###### Preprocessing & Exploratory Analysis"
   ]
  },
  {
   "cell_type": "code",
   "execution_count": 6,
   "metadata": {},
   "outputs": [
    {
     "data": {
      "text/plain": [
       "array(['B', 'A', 'C', 'D', 'E', 'G', 'I', 'F', 'H', nan, 'J', 'K', 'L',\n",
       "       'M', 'N'], dtype=object)"
      ]
     },
     "execution_count": 6,
     "metadata": {},
     "output_type": "execute_result"
    }
   ],
   "source": [
    "train['level_type'].unique()"
   ]
  },
  {
   "cell_type": "code",
   "execution_count": 7,
   "metadata": {},
   "outputs": [],
   "source": [
    "train['level_type'] = train['level_type'].fillna(train['level_type'].mode()[0])\n",
    "test1['level_type'] = test1['level_type'].fillna(test1['level_type'].mode()[0])"
   ]
  },
  {
   "cell_type": "code",
   "execution_count": 8,
   "metadata": {},
   "outputs": [
    {
     "data": {
      "text/plain": [
       "array(['B', 'A', 'C', 'D', 'E', 'G', 'I', 'F', 'H', 'J', 'K', 'L', 'M',\n",
       "       'N'], dtype=object)"
      ]
     },
     "execution_count": 8,
     "metadata": {},
     "output_type": "execute_result"
    }
   ],
   "source": [
    "train['level_type'].unique()"
   ]
  },
  {
   "cell_type": "code",
   "execution_count": 9,
   "metadata": {},
   "outputs": [],
   "source": [
    "LevelType=train.groupby('level_type')['user_id'].nunique().reset_index()"
   ]
  },
  {
   "cell_type": "code",
   "execution_count": 10,
   "metadata": {},
   "outputs": [
    {
     "data": {
      "image/png": "[encoded data removed]",
      "text/plain": [
       "<Figure size 1296x360 with 1 Axes>"
      ]
     },
     "metadata": {
      "needs_background": "light"
     },
     "output_type": "display_data"
    }
   ],
   "source": [
    "LevelType.set_index('level_type')['user_id'].plot.bar(figsize=(18,5),grid=True,rot=0)\n",
    "plt.xlabel(\"\\nLevel Type\",fontsize=14,color='blue')\n",
    "plt.ylabel(\"\\nNumber of users\\n\",fontsize=14,color='blue')\n",
    "plt.tight_layout()"
   ]
  },
  {
   "cell_type": "code",
   "execution_count": 11,
   "metadata": {},
   "outputs": [],
   "source": [
    "le = LabelEncoder()\n",
    "train['level_type'] = le.fit_transform(train['level_type'])\n",
    "test1['level_type'] = le.transform(test1['level_type'])"
   ]
  },
  {
   "cell_type": "code",
   "execution_count": 12,
   "metadata": {},
   "outputs": [
    {
     "data": {
      "text/plain": [
       "array(['beginner', 'intermediate', 'advanced', 'expert'], dtype=object)"
      ]
     },
     "execution_count": 12,
     "metadata": {},
     "output_type": "execute_result"
    }
   ],
   "source": [
    "train['rank'].unique()"
   ]
  },
  {
   "cell_type": "code",
   "execution_count": 13,
   "metadata": {},
   "outputs": [],
   "source": [
    "Rank=train.groupby('rank')['user_id'].nunique().reset_index()"
   ]
  },
  {
   "cell_type": "code",
   "execution_count": 14,
   "metadata": {},
   "outputs": [
    {
     "data": {
      "image/png": "[encoded data removed]",
      "text/plain": [
       "<Figure size 648x288 with 1 Axes>"
      ]
     },
     "metadata": {
      "needs_background": "light"
     },
     "output_type": "display_data"
    }
   ],
   "source": [
    "Rank.set_index('rank')['user_id'].plot.bar(figsize=(9,4),grid=True,rot=0)\n",
    "plt.xlabel(\"\\nRank\",fontsize=10,color='blue')\n",
    "plt.ylabel(\"\\nNumber of users\\n\",fontsize=10,color='blue')\n",
    "plt.tight_layout()"
   ]
  },
  {
   "cell_type": "code",
   "execution_count": 15,
   "metadata": {},
   "outputs": [
    {
     "data": {
      "text/plain": [
       "<matplotlib.collections.PathCollection at 0x27b88639438>"
      ]
     },
     "execution_count": 15,
     "metadata": {},
     "output_type": "execute_result"
    },
    {
     "data": {
      "image/png": "[encoded data removed]",
      "text/plain": [
       "<Figure size 432x288 with 1 Axes>"
      ]
     },
     "metadata": {
      "needs_background": "light"
     },
     "output_type": "display_data"
    }
   ],
   "source": [
    "plt.scatter(x=train['rank'],y=train['problem_solved'])"
   ]
  },
  {
   "cell_type": "code",
   "execution_count": 16,
   "metadata": {},
   "outputs": [],
   "source": [
    "le = LabelEncoder()\n",
    "train['rank'] = le.fit_transform(train['rank'])\n",
    "test1['rank'] = le.transform(test1['rank'])"
   ]
  },
  {
   "cell_type": "code",
   "execution_count": 17,
   "metadata": {},
   "outputs": [],
   "source": [
    "country=train.groupby('country')['user_id'].nunique().reset_index()"
   ]
  },
  {
   "cell_type": "code",
   "execution_count": 18,
   "metadata": {},
   "outputs": [
    {
     "data": {
      "image/png": "[encoded data removed]",
      "text/plain": [
       "<Figure size 1440x432 with 1 Axes>"
      ]
     },
     "metadata": {
      "needs_background": "light"
     },
     "output_type": "display_data"
    }
   ],
   "source": [
    "country.set_index('country')['user_id'].plot.bar(figsize=(20,6),grid=True,rot=90)\n",
    "plt.xlabel(\"\\ncountry\",fontsize=14,color='blue')\n",
    "plt.ylabel(\"\\nNumber of users played\\n\",fontsize=14,color='blue')\n",
    "plt.tight_layout()"
   ]
  },
  {
   "cell_type": "code",
   "execution_count": 19,
   "metadata": {},
   "outputs": [],
   "source": [
    "train['country'] = train['country'].fillna(train['country'].mode()[0])\n",
    "test1['country'] = test1['country'].fillna(test1['country'].mode()[0])\n",
    "train['country'] = le.fit_transform(train['country'])\n",
    "test1['country'] = le.fit_transform(test1['country'])"
   ]
  },
  {
   "cell_type": "code",
   "execution_count": 20,
   "metadata": {},
   "outputs": [],
   "source": [
    "train['user_id']=train['user_id'].str.replace('user_','')\n",
    "test1['user_id'] = test1['user_id'].str.replace('user_','')\n",
    "train['problem_id'] = train['problem_id'].str.replace('prob_','')\n",
    "test1['problem_id'] = test1['problem_id'].str.replace('prob_','')"
   ]
  },
  {
   "cell_type": "code",
   "execution_count": 21,
   "metadata": {},
   "outputs": [],
   "source": [
    "train['diffonlinesec']=train['last_online_time_seconds']-train['registration_time_seconds']\n",
    "test1['diffonlinesec']=test1['last_online_time_seconds']-test1['registration_time_seconds']\n",
    "#####################################\n",
    "train['days']=train['diffonlinesec']//(24*3600)\n",
    "test1['days']=test1['diffonlinesec']//(24*3600)"
   ]
  },
  {
   "cell_type": "code",
   "execution_count": 22,
   "metadata": {},
   "outputs": [],
   "source": [
    "train['tags']=train['tags'].fillna('-999')\n",
    "test1['tags']=test1['tags'].fillna('-999')"
   ]
  },
  {
   "cell_type": "code",
   "execution_count": 23,
   "metadata": {},
   "outputs": [],
   "source": [
    "le = LabelEncoder()\n",
    "train['tags'] = le.fit_transform(train['tags'])\n",
    "test1['tags'] = le.fit_transform(test1['tags'])"
   ]
  },
  {
   "cell_type": "code",
   "execution_count": 24,
   "metadata": {},
   "outputs": [],
   "source": [
    "train['sumfollower']=train.groupby('user_id')['follower_count'].transform('sum')\n",
    "train['AvgProblemsolved']=train.groupby('user_id')['problem_solved'].transform('mean')\n",
    "train['SumProblemsolved']=train.groupby('user_id')['problem_solved'].transform('sum')\n",
    "##########################\n",
    "test1['sumfollower']=test1.groupby('user_id')['follower_count'].transform('sum')\n",
    "test1['AvgProblemsolved']=test1.groupby('user_id')['problem_solved'].transform('mean')\n",
    "test1['SumProblemsolved']=test1.groupby('user_id')['problem_solved'].transform('sum')"
   ]
  },
  {
   "cell_type": "code",
   "execution_count": 25,
   "metadata": {},
   "outputs": [],
   "source": [
    "train['sumcontribution']=train.groupby('user_id')['contribution'].transform('sum')\n",
    "#####################\n",
    "test1['sumcontribution']=test1.groupby('user_id')['contribution'].transform('sum')"
   ]
  },
  {
   "cell_type": "code",
   "execution_count": 26,
   "metadata": {},
   "outputs": [],
   "source": [
    "# train['user_id'] = le.fit_transform(train['user_id'])\n",
    "# train['problem_id'] = le.fit_transform(train['problem_id'])\n",
    "train['user_id'] = train['user_id'].astype('int')\n",
    "train['problem_id'] = train['problem_id'].astype('int')\n",
    "#############################\n",
    "# test1['user_id'] = le.fit_transform(test1['user_id'])\n",
    "# test1['problem_id'] = le.fit_transform(test1['problem_id'])\n",
    "test1['user_id'] = test1['user_id'].astype('int')\n",
    "test1['problem_id'] = test1['problem_id'].astype('int')"
   ]
  },
  {
   "cell_type": "code",
   "execution_count": 204,
   "metadata": {},
   "outputs": [
    {
     "data": {
      "image/png": "[encoded data removed]",
      "text/plain": [
       "<Figure size 432x288 with 1 Axes>"
      ]
     },
     "metadata": {
      "needs_background": "light"
     },
     "output_type": "display_data"
    }
   ],
   "source": [
    "ax = sns.boxplot(x=train['points'])"
   ]
  },
  {
   "cell_type": "code",
   "execution_count": 27,
   "metadata": {},
   "outputs": [],
   "source": [
    "qt = QuantileTransformer(output_distribution='normal')\n",
    "train['points']=train['points'].fillna(train['points'].median())\n",
    "train['npoints'] = qt.fit_transform(train[['points']].values)\n",
    "#######################\n",
    "test1['points']=test1['points'].fillna(test1['points'].median())\n",
    "test1['npoints'] = qt.fit_transform(test1[['points']].values)"
   ]
  },
  {
   "cell_type": "code",
   "execution_count": 28,
   "metadata": {},
   "outputs": [
    {
     "data": {
      "text/plain": [
       "<matplotlib.axes._subplots.AxesSubplot at 0x27b8dcb5a90>"
      ]
     },
     "execution_count": 28,
     "metadata": {},
     "output_type": "execute_result"
    },
    {
     "data": {
      "image/png": "[encoded data removed]",
      "text/plain": [
       "<Figure size 648x288 with 1 Axes>"
      ]
     },
     "metadata": {
      "needs_background": "light"
     },
     "output_type": "display_data"
    }
   ],
   "source": [
    "attemptRange=train.groupby('attempts_range').count()['user_id'].reset_index()\n",
    "attemptRange.set_index('attempts_range').plot.bar(figsize=(9,4),grid=True,rot=0)"
   ]
  },
  {
   "cell_type": "code",
   "execution_count": 29,
   "metadata": {},
   "outputs": [],
   "source": [
    "train['submission_count_norm']=np.cbrt(train['submission_count'])"
   ]
  },
  {
   "cell_type": "code",
   "execution_count": 30,
   "metadata": {},
   "outputs": [
    {
     "data": {
      "image/png": "[encoded data removed]",
      "text/plain": [
       "<Figure size 432x288 with 1 Axes>"
      ]
     },
     "metadata": {
      "needs_background": "light"
     },
     "output_type": "display_data"
    }
   ],
   "source": [
    "sns.distplot(np.cbrt(train['submission_count']))\n",
    "plt.grid()"
   ]
  },
  {
   "cell_type": "code",
   "execution_count": 33,
   "metadata": {},
   "outputs": [
    {
     "data": {
      "text/plain": [
       "array([0, 1, 2, 3, 4, 5], dtype=int64)"
      ]
     },
     "execution_count": 33,
     "metadata": {},
     "output_type": "execute_result"
    }
   ],
   "source": [
    "train['attempts_range'].unique()"
   ]
  },
  {
   "cell_type": "code",
   "execution_count": 32,
   "metadata": {},
   "outputs": [],
   "source": [
    "train['attempts_range']=train['attempts_range'].replace(1,0).replace(2,1).replace(3,2).replace(4,3).replace(5,4).replace(6,5)"
   ]
  },
  {
   "cell_type": "markdown",
   "metadata": {},
   "source": [
    "###### Model Training"
   ]
  },
  {
   "cell_type": "code",
   "execution_count": 73,
   "metadata": {},
   "outputs": [],
   "source": [
    "X1=train.drop(['npoints','rank','contribution','submission_count_norm','AvgProblemsolved','sumcontribution',\n",
    "               'problem_solved','follower_count','diffonlinesec','days','max_rating','attempts_range'],axis=1)\n",
    "Y1=train['attempts_range']"
   ]
  },
  {
   "cell_type": "code",
   "execution_count": 74,
   "metadata": {},
   "outputs": [],
   "source": [
    "x_train, x_test, y_train, y_test = train_test_split(X1, Y1, test_size=0.2,random_state=123,stratify=Y1)"
   ]
  },
  {
   "cell_type": "code",
   "execution_count": 75,
   "metadata": {},
   "outputs": [
    {
     "data": {
      "text/plain": [
       "(Counter({0: 66243, 1: 37856, 2: 11314, 3: 4399, 5: 2427, 4: 1997}),\n",
       " Counter({1: 9464, 0: 16561, 5: 606, 4: 499, 2: 2829, 3: 1100}))"
      ]
     },
     "execution_count": 75,
     "metadata": {},
     "output_type": "execute_result"
    }
   ],
   "source": [
    "Counter(y_train),Counter(y_test)"
   ]
  },
  {
   "cell_type": "code",
   "execution_count": 113,
   "metadata": {},
   "outputs": [],
   "source": [
    "params={}\n",
    "params['learning_rate']=0.02\n",
    "params['boosting_type']='gbdt' #GradientBoostingDecisionTree\n",
    "params['objective']='multiclass' #Multi-class target feature\n",
    "params['metric']='multi_logloss' #metric for multi-class\n",
    "params['max_depth']=30\n",
    "params['num_class']=6 #no.of unique values in the target class not inclusive of the end value\n",
    "params['lambda_l1']=0.01 \n",
    "params['min_child_weight']= 5\n",
    "params['colsample_bytree']= 0.5\n",
    "#params['min_data_in_leaf']=1000\n",
    "params['num_leaves']=60"
   ]
  },
  {
   "cell_type": "code",
   "execution_count": 114,
   "metadata": {},
   "outputs": [],
   "source": [
    "import lightgbm as lgb"
   ]
  },
  {
   "cell_type": "code",
   "execution_count": 115,
   "metadata": {},
   "outputs": [],
   "source": [
    "#Converting the dataset in proper LGB format\n",
    "d_train=lgb.Dataset(x_train, label=y_train)"
   ]
  },
  {
   "cell_type": "code",
   "execution_count": 116,
   "metadata": {},
   "outputs": [
    {
     "name": "stdout",
     "output_type": "stream",
     "text": [
      "[LightGBM] [Warning] Auto-choosing col-wise multi-threading, the overhead of testing was 0.007847 seconds.\n",
      "You can set `force_col_wise=true` to remove the overhead.\n",
      "[LightGBM] [Info] Total Bins 2389\n",
      "[LightGBM] [Info] Number of data points in the train set: 124236, number of used features: 12\n",
      "[LightGBM] [Info] Start training from score -0.628853\n",
      "[LightGBM] [Info] Start training from score -1.188393\n",
      "[LightGBM] [Info] Start training from score -2.396142\n",
      "[LightGBM] [Info] Start training from score -3.340806\n",
      "[LightGBM] [Info] Start training from score -4.130537\n",
      "[LightGBM] [Info] Start training from score -3.935527\n"
     ]
    }
   ],
   "source": [
    "clf=lgb.train(params,d_train,900)  #training the model on 100 epocs"
   ]
  },
  {
   "cell_type": "code",
   "execution_count": 117,
   "metadata": {},
   "outputs": [
    {
     "data": {
      "text/plain": [
       "array([[0.51379919, 0.31420508, 0.10134988, 0.04096537, 0.01674112,\n",
       "        0.01293935],\n",
       "       [0.45228583, 0.33517948, 0.18384421, 0.01491818, 0.0120751 ,\n",
       "        0.0016972 ],\n",
       "       [0.80962707, 0.15337577, 0.02697255, 0.00776287, 0.00112989,\n",
       "        0.00113185],\n",
       "       ...,\n",
       "       [0.32108828, 0.2990815 , 0.22064185, 0.07977142, 0.06077699,\n",
       "        0.01863996],\n",
       "       [0.48787635, 0.34032036, 0.11294482, 0.04493943, 0.00888794,\n",
       "        0.0050311 ],\n",
       "       [0.69639852, 0.22752205, 0.04565982, 0.019566  , 0.00681715,\n",
       "        0.00403646]])"
      ]
     },
     "execution_count": 117,
     "metadata": {},
     "output_type": "execute_result"
    }
   ],
   "source": [
    "y_pred_1=clf.predict(x_test)\n",
    "#printing the predictions\n",
    "y_pred_1"
   ]
  },
  {
   "cell_type": "code",
   "execution_count": 118,
   "metadata": {},
   "outputs": [],
   "source": [
    "y_pred_1 = [np.argmax(line) for line in y_pred_1]"
   ]
  },
  {
   "cell_type": "code",
   "execution_count": 119,
   "metadata": {},
   "outputs": [
    {
     "data": {
      "text/plain": [
       "(0.5561672945040085, 0.6384464961543269)"
      ]
     },
     "execution_count": 119,
     "metadata": {},
     "output_type": "execute_result"
    }
   ],
   "source": [
    "accuracy_score(y_pred_1,y_test),f1_score(y_pred_1,y_test,average='weighted'),"
   ]
  },
  {
   "cell_type": "code",
   "execution_count": 120,
   "metadata": {},
   "outputs": [],
   "source": [
    "train1=clf.predict(x_train)\n",
    "t1=[np.argmax(line) for line in train1]"
   ]
  },
  {
   "cell_type": "code",
   "execution_count": 121,
   "metadata": {},
   "outputs": [
    {
     "data": {
      "text/plain": [
       "(0.62003767024051, 0.6876525865356047)"
      ]
     },
     "execution_count": 121,
     "metadata": {},
     "output_type": "execute_result"
    }
   ],
   "source": [
    "accuracy_score(t1,y_train),f1_score(t1,y_train,average='weighted')"
   ]
  },
  {
   "cell_type": "code",
   "execution_count": 122,
   "metadata": {},
   "outputs": [
    {
     "data": {
      "text/plain": [
       "({0, 1, 2, 3, 4, 5}, {0, 1, 2, 3, 4, 5})"
      ]
     },
     "execution_count": 122,
     "metadata": {},
     "output_type": "execute_result"
    }
   ],
   "source": [
    "set(y_pred_1),set(t1)"
   ]
  },
  {
   "cell_type": "markdown",
   "metadata": {},
   "source": [
    "##### Feature Importance"
   ]
  },
  {
   "cell_type": "code",
   "execution_count": 123,
   "metadata": {},
   "outputs": [
    {
     "data": {
      "image/png": "[encoded data removed]",
      "text/plain": [
       "<Figure size 1296x504 with 1 Axes>"
      ]
     },
     "metadata": {
      "needs_background": "light"
     },
     "output_type": "display_data"
    }
   ],
   "source": [
    "df1=pd.DataFrame()\n",
    "df1['value']=clf.feature_importance()\n",
    "df1['columns']=x_train.columns\n",
    "df1.sort_values(by='value', ascending=False, inplace=True)\n",
    "\n",
    "plt.figure(figsize=(18,7))\n",
    "ax = sns.barplot(y=\"columns\", x=\"value\", data=df1)\n",
    "plt.grid()"
   ]
  },
  {
   "cell_type": "markdown",
   "metadata": {},
   "source": [
    "##### Prediction on test dataset"
   ]
  },
  {
   "cell_type": "code",
   "execution_count": 125,
   "metadata": {},
   "outputs": [],
   "source": [
    "testtest=test1.drop(['ID','npoints','rank','contribution','AvgProblemsolved','sumcontribution',\n",
    "               'problem_solved','follower_count','diffonlinesec','days','max_rating'],axis=1)"
   ]
  },
  {
   "cell_type": "code",
   "execution_count": 126,
   "metadata": {},
   "outputs": [
    {
     "data": {
      "text/plain": [
       "Index(['user_id', 'problem_id', 'level_type', 'points', 'tags',\n",
       "       'submission_count', 'country', 'last_online_time_seconds', 'rating',\n",
       "       'registration_time_seconds', 'sumfollower', 'SumProblemsolved'],\n",
       "      dtype='object')"
      ]
     },
     "execution_count": 126,
     "metadata": {},
     "output_type": "execute_result"
    }
   ],
   "source": [
    "testtest.columns"
   ]
  },
  {
   "cell_type": "code",
   "execution_count": 127,
   "metadata": {},
   "outputs": [
    {
     "data": {
      "text/plain": [
       "Index(['user_id', 'problem_id', 'submission_count', 'country',\n",
       "       'last_online_time_seconds', 'rating', 'registration_time_seconds',\n",
       "       'level_type', 'points', 'tags', 'sumfollower', 'SumProblemsolved'],\n",
       "      dtype='object')"
      ]
     },
     "execution_count": 127,
     "metadata": {},
     "output_type": "execute_result"
    }
   ],
   "source": [
    "x_train.columns"
   ]
  },
  {
   "cell_type": "code",
   "execution_count": 128,
   "metadata": {},
   "outputs": [],
   "source": [
    "testtest=testtest[['user_id', 'problem_id', 'submission_count', 'country',\n",
    "       'last_online_time_seconds', 'rating', 'registration_time_seconds',\n",
    "       'level_type', 'points', 'tags', 'sumfollower', 'SumProblemsolved']]"
   ]
  },
  {
   "cell_type": "code",
   "execution_count": 129,
   "metadata": {},
   "outputs": [],
   "source": [
    "prediction=clf.predict(testtest)"
   ]
  },
  {
   "cell_type": "code",
   "execution_count": 131,
   "metadata": {},
   "outputs": [],
   "source": [
    "PredictionResult=[np.argmax(line) for line in prediction]"
   ]
  },
  {
   "cell_type": "code",
   "execution_count": 138,
   "metadata": {},
   "outputs": [
    {
     "data": {
      "text/plain": [
       "{0, 1, 2, 3, 4, 5}"
      ]
     },
     "execution_count": 138,
     "metadata": {},
     "output_type": "execute_result"
    }
   ],
   "source": [
    "set(PredictionResult)"
   ]
  },
  {
   "cell_type": "code",
   "execution_count": 134,
   "metadata": {},
   "outputs": [],
   "source": [
    "testtest['user_id']=testtest['user_id'].astype('str')\n",
    "testtest['problem_id']=testtest['problem_id'].astype('str')\n",
    "testtest['ID']=\"user_\"+testtest['user_id']+\"_\"+\"prob_\"+testtest['problem_id']"
   ]
  },
  {
   "cell_type": "code",
   "execution_count": 139,
   "metadata": {},
   "outputs": [],
   "source": [
    "testtest['attempts_range']=PredictionResult"
   ]
  },
  {
   "cell_type": "code",
   "execution_count": 141,
   "metadata": {},
   "outputs": [
    {
     "name": "stderr",
     "output_type": "stream",
     "text": [
      "C:\\Users\\bhagyashreeG\\Anaconda3\\lib\\site-packages\\ipykernel_launcher.py:2: SettingWithCopyWarning: \n",
      "A value is trying to be set on a copy of a slice from a DataFrame.\n",
      "Try using .loc[row_indexer,col_indexer] = value instead\n",
      "\n",
      "See the caveats in the documentation: https://pandas.pydata.org/pandas-docs/stable/user_guide/indexing.html#returning-a-view-versus-a-copy\n",
      "  \n"
     ]
    }
   ],
   "source": [
    "testtest0=testtest[testtest['attempts_range']==0]\n",
    "testtest0['attempts_range']=1"
   ]
  },
  {
   "cell_type": "code",
   "execution_count": 144,
   "metadata": {},
   "outputs": [
    {
     "name": "stderr",
     "output_type": "stream",
     "text": [
      "C:\\Users\\bhagyashreeG\\Anaconda3\\lib\\site-packages\\ipykernel_launcher.py:2: SettingWithCopyWarning: \n",
      "A value is trying to be set on a copy of a slice from a DataFrame.\n",
      "Try using .loc[row_indexer,col_indexer] = value instead\n",
      "\n",
      "See the caveats in the documentation: https://pandas.pydata.org/pandas-docs/stable/user_guide/indexing.html#returning-a-view-versus-a-copy\n",
      "  \n",
      "C:\\Users\\bhagyashreeG\\Anaconda3\\lib\\site-packages\\ipykernel_launcher.py:4: SettingWithCopyWarning: \n",
      "A value is trying to be set on a copy of a slice from a DataFrame.\n",
      "Try using .loc[row_indexer,col_indexer] = value instead\n",
      "\n",
      "See the caveats in the documentation: https://pandas.pydata.org/pandas-docs/stable/user_guide/indexing.html#returning-a-view-versus-a-copy\n",
      "  after removing the cwd from sys.path.\n",
      "C:\\Users\\bhagyashreeG\\Anaconda3\\lib\\site-packages\\ipykernel_launcher.py:6: SettingWithCopyWarning: \n",
      "A value is trying to be set on a copy of a slice from a DataFrame.\n",
      "Try using .loc[row_indexer,col_indexer] = value instead\n",
      "\n",
      "See the caveats in the documentation: https://pandas.pydata.org/pandas-docs/stable/user_guide/indexing.html#returning-a-view-versus-a-copy\n",
      "  \n",
      "C:\\Users\\bhagyashreeG\\Anaconda3\\lib\\site-packages\\ipykernel_launcher.py:8: SettingWithCopyWarning: \n",
      "A value is trying to be set on a copy of a slice from a DataFrame.\n",
      "Try using .loc[row_indexer,col_indexer] = value instead\n",
      "\n",
      "See the caveats in the documentation: https://pandas.pydata.org/pandas-docs/stable/user_guide/indexing.html#returning-a-view-versus-a-copy\n",
      "  \n",
      "C:\\Users\\bhagyashreeG\\Anaconda3\\lib\\site-packages\\ipykernel_launcher.py:10: SettingWithCopyWarning: \n",
      "A value is trying to be set on a copy of a slice from a DataFrame.\n",
      "Try using .loc[row_indexer,col_indexer] = value instead\n",
      "\n",
      "See the caveats in the documentation: https://pandas.pydata.org/pandas-docs/stable/user_guide/indexing.html#returning-a-view-versus-a-copy\n",
      "  # Remove the CWD from sys.path while we load stuff.\n"
     ]
    }
   ],
   "source": [
    "testtest1=testtest[testtest['attempts_range']==1]\n",
    "testtest1['attempts_range']=2\n",
    "testtest2=testtest[testtest['attempts_range']==2]\n",
    "testtest2['attempts_range']=3\n",
    "testtest3=testtest[testtest['attempts_range']==3]\n",
    "testtest3['attempts_range']=4\n",
    "testtest4=testtest[testtest['attempts_range']==4]\n",
    "testtest4['attempts_range']=5\n",
    "testtest5=testtest[testtest['attempts_range']==5]\n",
    "testtest5['attempts_range']=6"
   ]
  },
  {
   "cell_type": "code",
   "execution_count": 147,
   "metadata": {},
   "outputs": [],
   "source": [
    "concat=pd.concat([testtest0,testtest1,testtest2,testtest3,testtest4,testtest5])"
   ]
  },
  {
   "cell_type": "code",
   "execution_count": 148,
   "metadata": {},
   "outputs": [
    {
     "data": {
      "text/html": [
       "<div>\n",
       "<style scoped>\n",
       "    .dataframe tbody tr th:only-of-type {\n",
       "        vertical-align: middle;\n",
       "    }\n",
       "\n",
       "    .dataframe tbody tr th {\n",
       "        vertical-align: top;\n",
       "    }\n",
       "\n",
       "    .dataframe thead th {\n",
       "        text-align: right;\n",
       "    }\n",
       "</style>\n",
       "<table border=\"1\" class=\"dataframe\">\n",
       "  <thead>\n",
       "    <tr style=\"text-align: right;\">\n",
       "      <th></th>\n",
       "      <th>user_id</th>\n",
       "      <th>problem_id</th>\n",
       "      <th>submission_count</th>\n",
       "      <th>country</th>\n",
       "      <th>last_online_time_seconds</th>\n",
       "      <th>rating</th>\n",
       "      <th>registration_time_seconds</th>\n",
       "      <th>level_type</th>\n",
       "      <th>points</th>\n",
       "      <th>tags</th>\n",
       "      <th>sumfollower</th>\n",
       "      <th>SumProblemsolved</th>\n",
       "      <th>ID</th>\n",
       "      <th>attempts_range</th>\n",
       "    </tr>\n",
       "  </thead>\n",
       "  <tbody>\n",
       "    <tr>\n",
       "      <th>0</th>\n",
       "      <td>856</td>\n",
       "      <td>5822</td>\n",
       "      <td>274</td>\n",
       "      <td>31</td>\n",
       "      <td>1503233908</td>\n",
       "      <td>362.959</td>\n",
       "      <td>1422163139</td>\n",
       "      <td>11</td>\n",
       "      <td>1000.0</td>\n",
       "      <td>16</td>\n",
       "      <td>840</td>\n",
       "      <td>5544</td>\n",
       "      <td>user_856_prob_5822</td>\n",
       "      <td>1</td>\n",
       "    </tr>\n",
       "    <tr>\n",
       "      <th>1</th>\n",
       "      <td>856</td>\n",
       "      <td>6173</td>\n",
       "      <td>274</td>\n",
       "      <td>31</td>\n",
       "      <td>1503233908</td>\n",
       "      <td>362.959</td>\n",
       "      <td>1422163139</td>\n",
       "      <td>1</td>\n",
       "      <td>1000.0</td>\n",
       "      <td>755</td>\n",
       "      <td>840</td>\n",
       "      <td>5544</td>\n",
       "      <td>user_856_prob_6173</td>\n",
       "      <td>1</td>\n",
       "    </tr>\n",
       "    <tr>\n",
       "      <th>2</th>\n",
       "      <td>856</td>\n",
       "      <td>5781</td>\n",
       "      <td>274</td>\n",
       "      <td>31</td>\n",
       "      <td>1503233908</td>\n",
       "      <td>362.959</td>\n",
       "      <td>1422163139</td>\n",
       "      <td>0</td>\n",
       "      <td>500.0</td>\n",
       "      <td>747</td>\n",
       "      <td>840</td>\n",
       "      <td>5544</td>\n",
       "      <td>user_856_prob_5781</td>\n",
       "      <td>1</td>\n",
       "    </tr>\n",
       "    <tr>\n",
       "      <th>3</th>\n",
       "      <td>856</td>\n",
       "      <td>3438</td>\n",
       "      <td>274</td>\n",
       "      <td>31</td>\n",
       "      <td>1503233908</td>\n",
       "      <td>362.959</td>\n",
       "      <td>1422163139</td>\n",
       "      <td>0</td>\n",
       "      <td>500.0</td>\n",
       "      <td>746</td>\n",
       "      <td>840</td>\n",
       "      <td>5544</td>\n",
       "      <td>user_856_prob_3438</td>\n",
       "      <td>1</td>\n",
       "    </tr>\n",
       "    <tr>\n",
       "      <th>4</th>\n",
       "      <td>856</td>\n",
       "      <td>1868</td>\n",
       "      <td>274</td>\n",
       "      <td>31</td>\n",
       "      <td>1503233908</td>\n",
       "      <td>362.959</td>\n",
       "      <td>1422163139</td>\n",
       "      <td>0</td>\n",
       "      <td>500.0</td>\n",
       "      <td>757</td>\n",
       "      <td>840</td>\n",
       "      <td>5544</td>\n",
       "      <td>user_856_prob_1868</td>\n",
       "      <td>1</td>\n",
       "    </tr>\n",
       "    <tr>\n",
       "      <th>...</th>\n",
       "      <td>...</td>\n",
       "      <td>...</td>\n",
       "      <td>...</td>\n",
       "      <td>...</td>\n",
       "      <td>...</td>\n",
       "      <td>...</td>\n",
       "      <td>...</td>\n",
       "      <td>...</td>\n",
       "      <td>...</td>\n",
       "      <td>...</td>\n",
       "      <td>...</td>\n",
       "      <td>...</td>\n",
       "      <td>...</td>\n",
       "      <td>...</td>\n",
       "    </tr>\n",
       "    <tr>\n",
       "      <th>66415</th>\n",
       "      <td>3518</td>\n",
       "      <td>6261</td>\n",
       "      <td>823</td>\n",
       "      <td>73</td>\n",
       "      <td>1505506233</td>\n",
       "      <td>612.099</td>\n",
       "      <td>1281961523</td>\n",
       "      <td>5</td>\n",
       "      <td>1000.0</td>\n",
       "      <td>16</td>\n",
       "      <td>1320</td>\n",
       "      <td>10860</td>\n",
       "      <td>user_3518_prob_6261</td>\n",
       "      <td>6</td>\n",
       "    </tr>\n",
       "    <tr>\n",
       "      <th>66443</th>\n",
       "      <td>444</td>\n",
       "      <td>4303</td>\n",
       "      <td>650</td>\n",
       "      <td>55</td>\n",
       "      <td>1505571056</td>\n",
       "      <td>561.927</td>\n",
       "      <td>1362871465</td>\n",
       "      <td>5</td>\n",
       "      <td>1000.0</td>\n",
       "      <td>16</td>\n",
       "      <td>1120</td>\n",
       "      <td>19616</td>\n",
       "      <td>user_444_prob_4303</td>\n",
       "      <td>6</td>\n",
       "    </tr>\n",
       "    <tr>\n",
       "      <th>66447</th>\n",
       "      <td>444</td>\n",
       "      <td>4388</td>\n",
       "      <td>650</td>\n",
       "      <td>55</td>\n",
       "      <td>1505571056</td>\n",
       "      <td>561.927</td>\n",
       "      <td>1362871465</td>\n",
       "      <td>4</td>\n",
       "      <td>1000.0</td>\n",
       "      <td>16</td>\n",
       "      <td>1120</td>\n",
       "      <td>19616</td>\n",
       "      <td>user_444_prob_4388</td>\n",
       "      <td>6</td>\n",
       "    </tr>\n",
       "    <tr>\n",
       "      <th>66450</th>\n",
       "      <td>444</td>\n",
       "      <td>4872</td>\n",
       "      <td>650</td>\n",
       "      <td>55</td>\n",
       "      <td>1505571056</td>\n",
       "      <td>561.927</td>\n",
       "      <td>1362871465</td>\n",
       "      <td>5</td>\n",
       "      <td>1000.0</td>\n",
       "      <td>16</td>\n",
       "      <td>1120</td>\n",
       "      <td>19616</td>\n",
       "      <td>user_444_prob_4872</td>\n",
       "      <td>6</td>\n",
       "    </tr>\n",
       "    <tr>\n",
       "      <th>66451</th>\n",
       "      <td>444</td>\n",
       "      <td>5746</td>\n",
       "      <td>650</td>\n",
       "      <td>55</td>\n",
       "      <td>1505571056</td>\n",
       "      <td>561.927</td>\n",
       "      <td>1362871465</td>\n",
       "      <td>5</td>\n",
       "      <td>1000.0</td>\n",
       "      <td>16</td>\n",
       "      <td>1120</td>\n",
       "      <td>19616</td>\n",
       "      <td>user_444_prob_5746</td>\n",
       "      <td>6</td>\n",
       "    </tr>\n",
       "  </tbody>\n",
       "</table>\n",
       "<p>66555 rows × 14 columns</p>\n",
       "</div>"
      ],
      "text/plain": [
       "      user_id problem_id  submission_count  country  last_online_time_seconds  \\\n",
       "0         856       5822               274       31                1503233908   \n",
       "1         856       6173               274       31                1503233908   \n",
       "2         856       5781               274       31                1503233908   \n",
       "3         856       3438               274       31                1503233908   \n",
       "4         856       1868               274       31                1503233908   \n",
       "...       ...        ...               ...      ...                       ...   \n",
       "66415    3518       6261               823       73                1505506233   \n",
       "66443     444       4303               650       55                1505571056   \n",
       "66447     444       4388               650       55                1505571056   \n",
       "66450     444       4872               650       55                1505571056   \n",
       "66451     444       5746               650       55                1505571056   \n",
       "\n",
       "        rating  registration_time_seconds  level_type  points  tags  \\\n",
       "0      362.959                 1422163139          11  1000.0    16   \n",
       "1      362.959                 1422163139           1  1000.0   755   \n",
       "2      362.959                 1422163139           0   500.0   747   \n",
       "3      362.959                 1422163139           0   500.0   746   \n",
       "4      362.959                 1422163139           0   500.0   757   \n",
       "...        ...                        ...         ...     ...   ...   \n",
       "66415  612.099                 1281961523           5  1000.0    16   \n",
       "66443  561.927                 1362871465           5  1000.0    16   \n",
       "66447  561.927                 1362871465           4  1000.0    16   \n",
       "66450  561.927                 1362871465           5  1000.0    16   \n",
       "66451  561.927                 1362871465           5  1000.0    16   \n",
       "\n",
       "       sumfollower  SumProblemsolved                   ID  attempts_range  \n",
       "0              840              5544   user_856_prob_5822               1  \n",
       "1              840              5544   user_856_prob_6173               1  \n",
       "2              840              5544   user_856_prob_5781               1  \n",
       "3              840              5544   user_856_prob_3438               1  \n",
       "4              840              5544   user_856_prob_1868               1  \n",
       "...            ...               ...                  ...             ...  \n",
       "66415         1320             10860  user_3518_prob_6261               6  \n",
       "66443         1120             19616   user_444_prob_4303               6  \n",
       "66447         1120             19616   user_444_prob_4388               6  \n",
       "66450         1120             19616   user_444_prob_4872               6  \n",
       "66451         1120             19616   user_444_prob_5746               6  \n",
       "\n",
       "[66555 rows x 14 columns]"
      ]
     },
     "execution_count": 148,
     "metadata": {},
     "output_type": "execute_result"
    }
   ],
   "source": [
    "concat"
   ]
  },
  {
   "cell_type": "code",
   "execution_count": 150,
   "metadata": {},
   "outputs": [
    {
     "data": {
      "text/plain": [
       "array([1, 2, 3, 4, 5, 6], dtype=int64)"
      ]
     },
     "execution_count": 150,
     "metadata": {},
     "output_type": "execute_result"
    }
   ],
   "source": [
    "concat['attempts_range'].unique()"
   ]
  },
  {
   "cell_type": "code",
   "execution_count": 151,
   "metadata": {},
   "outputs": [],
   "source": [
    "test_prediction=concat[['ID','attempts_range']]"
   ]
  },
  {
   "cell_type": "code",
   "execution_count": 152,
   "metadata": {},
   "outputs": [],
   "source": [
    "test_prediction.to_csv(\"test_prediction.csv\",index=False,header=test_prediction.columns)"
   ]
  }
 ],
 "metadata": {
  "kernelspec": {
   "display_name": "Python 3",
   "language": "python",
   "name": "python3"
  },
  "language_info": {
   "codemirror_mode": {
    "name": "ipython",
    "version": 3
   },
   "file_extension": ".py",
   "mimetype": "text/x-python",
   "name": "python",
   "nbconvert_exporter": "python",
   "pygments_lexer": "ipython3",
   "version": "3.7.3"
  }
 },
 "nbformat": 4,
 "nbformat_minor": 2
}
